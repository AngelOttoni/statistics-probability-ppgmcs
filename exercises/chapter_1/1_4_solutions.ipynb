{
 "cells": [
  {
   "cell_type": "markdown",
   "metadata": {},
   "source": [
    "____  \n",
    "<center>\n",
    "\n",
    "<h3>Noções de Probabilidade e Estatística (7ª Edição, 5ª reimpressão revista 2023)</h1>   \n",
    "\n",
    "<h4>Introdução à Análise Exploratória de Dados</h2>\n",
    "\n",
    "___\n",
    "\n",
    "<center> "
   ]
  },
  {
   "cell_type": "markdown",
   "metadata": {},
   "source": [
    "<center>\n",
    "\n",
    "<h4><strong>Exercícios da seção 1.4</strong></h3>\n",
    "\n",
    "<center>\n",
    "\n"
   ]
  },
  {
   "cell_type": "markdown",
   "metadata": {},
   "source": [
    "**1. Responda certo ou errado, justificando:**"
   ]
  },
  {
   "cell_type": "markdown",
   "metadata": {},
   "source": [
    "    a. Suponha duas amostras colhidas de uma mesma população, sendo uma de tamanho 100 e outra de tamanho 200. Então, a amostra de tamanho maior é mais representativa da população.\n",
    "\n",
    ">Errado. \n"
   ]
  },
  {
   "cell_type": "markdown",
   "metadata": {},
   "source": [
    "    b. Duas variáveis com valores diferentes podem apresentar histogramas iguais\n",
    "\n"
   ]
  },
  {
   "cell_type": "markdown",
   "metadata": {},
   "source": [
    "    c. Duas variáveis com box-plot iguais não podem ter valores diferentes."
   ]
  }
 ],
 "metadata": {
  "language_info": {
   "name": "python"
  }
 },
 "nbformat": 4,
 "nbformat_minor": 2
}
